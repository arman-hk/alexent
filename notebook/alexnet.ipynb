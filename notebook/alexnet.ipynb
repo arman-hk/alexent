{
  "cells": [
    {
      "cell_type": "markdown",
      "source": [
        "## AlexNet in PyTorch"
      ],
      "metadata": {
        "id": "5NXM9VRjr9yp"
      },
      "id": "5NXM9VRjr9yp"
    },
    {
      "cell_type": "markdown",
      "source": [
        "Importing the necessary libraries"
      ],
      "metadata": {
        "id": "Bb9pxH7er_qB"
      },
      "id": "Bb9pxH7er_qB"
    },
    {
      "cell_type": "code",
      "execution_count": 1,
      "metadata": {
        "id": "151cb7a0-9307-4e8c-a977-5b72300c54e9"
      },
      "outputs": [],
      "source": [
        "import torch\n",
        "import torch.nn as nn\n",
        "from torchsummary import summary"
      ],
      "id": "151cb7a0-9307-4e8c-a977-5b72300c54e9"
    },
    {
      "cell_type": "markdown",
      "source": [
        "Defining the AlexNet class with its respective layers"
      ],
      "metadata": {
        "id": "wFQVzMNOsTSY"
      },
      "id": "wFQVzMNOsTSY"
    },
    {
      "cell_type": "code",
      "execution_count": 2,
      "metadata": {
        "id": "8317d5f8-55f7-44f5-8f29-0a6c4d82d3fd"
      },
      "outputs": [],
      "source": [
        "class AlexNet(nn.Module):\n",
        "    def __init__(self, num_classes=1000):\n",
        "        super(AlexNet, self).__init__()\n",
        "        self.layers = nn.Sequential(\n",
        "            nn.Conv2d(3, 96, 11, 4), # Conv2d-1: 96 kernel(11x11) + stride of 4\n",
        "            nn.ReLU(),\n",
        "            nn.LocalResponseNorm(5, 0.0001, 0.75, 2), #  Local Response Normalization-1: with k of 2\n",
        "            nn.MaxPool2d(3, 2), # MaxPool2d-1: 1 kernel(3x3) + stride of 2\n",
        "            nn.Conv2d(96, 256, 5, padding=2), # Conv2d-2: 256 kernel(5x5) + padding of 2\n",
        "            nn.ReLU(),\n",
        "            nn.LocalResponseNorm(5, 0.0001, 0.75, 2), #  Local Response Normalization-2: with k of 2\n",
        "            nn.MaxPool2d(3, 2), # MaxPool2d-2: 1 kernel(3x3) + stride of 2\n",
        "            nn.Conv2d(256, 384, 3, padding=1), # Conv2d-3: 384 kernel(3x3) + padding of 1\n",
        "            nn.ReLU(),\n",
        "            nn.Conv2d(384, 384, 3, padding=1), # Conv2d-4: 384 kernel(3x3) + padding of 1\n",
        "            nn.ReLU(),\n",
        "            nn.Conv2d(384, 256, 3, padding=1), # Conv2d-5: 256 kernel(3x3) + padding of 1\n",
        "            nn.ReLU(),\n",
        "            nn.MaxPool2d(3, 2), # MaxPool2d-3: 1 kernel(3x3) + stride of 2\n",
        "        )\n",
        "        self.mlp = nn.Sequential(\n",
        "            nn.Dropout(), # Dropout-1: regularization\n",
        "            nn.Linear(256*6*6, 4096), # Linear-1: input = 256(number of channels) * 6(height) * 6(width)\n",
        "            nn.ReLU(),\n",
        "            nn.Dropout(), # Dropout-2: regularization\n",
        "            nn.Linear(4096, 4096), # Linear-2: input = 4096\n",
        "            nn.ReLU(),\n",
        "            nn.Linear(4096, num_classes) # Linear-3: num_classes = 1000 ImageNet classes\n",
        "        )\n",
        "\n",
        "        self._initialize_bias()\n",
        "    \n",
        "    def _initialize_bias(self): # initialize bias of the second, fourth, and fifth convolutional layers to 1 as in the original AlexNet paper.\n",
        "        for m in self.modules():\n",
        "            if isinstance(m, nn.Conv2d):\n",
        "                nn.init.normal_(m.weight, 0, 0.01)\n",
        "                if m.bias is not None:\n",
        "                    nn.init.constant_(m.bias, 0)\n",
        "        nn.init.constant_(self.layers[4].bias, 1)\n",
        "        nn.init.constant_(self.layers[8].bias, 1)\n",
        "        nn.init.constant_(self.layers[10].bias, 1)\n",
        "    \n",
        "    def forward(self, t): # t = input tensor\n",
        "        t = self.layers(t) # pass through cnn layers\n",
        "        t = t.view(t.size(0), -1) # flatten the tensor for mlp\n",
        "        t = self.mlp(t) # passing through mlp layers\n",
        "        return t"
      ],
      "id": "8317d5f8-55f7-44f5-8f29-0a6c4d82d3fd"
    },
    {
      "cell_type": "markdown",
      "source": [
        "Creating an instance of the AlexNet model, then created a random input tensor with a batch size of 10 and shape 3x227x227, corresponding to 10 images of size 227x227 with 3 color channels. We pass this tensor through the model and print the output shape, which should be 10x1000, corresponding to the batch size and the number of classes."
      ],
      "metadata": {
        "id": "tp069BgysbB1"
      },
      "id": "tp069BgysbB1"
    },
    {
      "cell_type": "code",
      "source": [
        "alexnet = AlexNet()\n",
        "\n",
        "input_tensor = torch.randn(10, 3, 227, 227)\n",
        "\n",
        "output_tensor = alexnet(input_tensor)\n",
        "\n",
        "print(output_tensor.shape)"
      ],
      "metadata": {
        "colab": {
          "base_uri": "https://localhost:8080/"
        },
        "id": "WuBU6FdV7SpA",
        "outputId": "1b8f3221-88eb-448a-d5d7-97192cf130b5"
      },
      "id": "WuBU6FdV7SpA",
      "execution_count": 3,
      "outputs": [
        {
          "output_type": "stream",
          "name": "stdout",
          "text": [
            "torch.Size([10, 1000])\n"
          ]
        }
      ]
    },
    {
      "cell_type": "markdown",
      "source": [
        "Using `torchsummary` to get a detailed view of the model architecture"
      ],
      "metadata": {
        "id": "SNw86Ci8sqRa"
      },
      "id": "SNw86Ci8sqRa"
    },
    {
      "cell_type": "code",
      "source": [
        "summary(alexnet, (3, 227, 227))"
      ],
      "metadata": {
        "colab": {
          "base_uri": "https://localhost:8080/"
        },
        "id": "KL2pdhPtpvKu",
        "outputId": "1e2481a0-1f31-4ffc-e14f-48cf2df56baa"
      },
      "id": "KL2pdhPtpvKu",
      "execution_count": 4,
      "outputs": [
        {
          "output_type": "stream",
          "name": "stdout",
          "text": [
            "----------------------------------------------------------------\n",
            "        Layer (type)               Output Shape         Param #\n",
            "================================================================\n",
            "            Conv2d-1           [-1, 96, 55, 55]          34,944\n",
            "              ReLU-2           [-1, 96, 55, 55]               0\n",
            " LocalResponseNorm-3           [-1, 96, 55, 55]               0\n",
            "         MaxPool2d-4           [-1, 96, 27, 27]               0\n",
            "            Conv2d-5          [-1, 256, 27, 27]         614,656\n",
            "              ReLU-6          [-1, 256, 27, 27]               0\n",
            " LocalResponseNorm-7          [-1, 256, 27, 27]               0\n",
            "         MaxPool2d-8          [-1, 256, 13, 13]               0\n",
            "            Conv2d-9          [-1, 384, 13, 13]         885,120\n",
            "             ReLU-10          [-1, 384, 13, 13]               0\n",
            "           Conv2d-11          [-1, 384, 13, 13]       1,327,488\n",
            "             ReLU-12          [-1, 384, 13, 13]               0\n",
            "           Conv2d-13          [-1, 256, 13, 13]         884,992\n",
            "             ReLU-14          [-1, 256, 13, 13]               0\n",
            "        MaxPool2d-15            [-1, 256, 6, 6]               0\n",
            "          Dropout-16                 [-1, 9216]               0\n",
            "           Linear-17                 [-1, 4096]      37,752,832\n",
            "             ReLU-18                 [-1, 4096]               0\n",
            "          Dropout-19                 [-1, 4096]               0\n",
            "           Linear-20                 [-1, 4096]      16,781,312\n",
            "             ReLU-21                 [-1, 4096]               0\n",
            "           Linear-22                 [-1, 1000]       4,097,000\n",
            "================================================================\n",
            "Total params: 62,378,344\n",
            "Trainable params: 62,378,344\n",
            "Non-trainable params: 0\n",
            "----------------------------------------------------------------\n",
            "Input size (MB): 0.59\n",
            "Forward/backward pass size (MB): 14.73\n",
            "Params size (MB): 237.95\n",
            "Estimated Total Size (MB): 253.27\n",
            "----------------------------------------------------------------\n"
          ]
        }
      ]
    }
  ],
  "metadata": {
    "colab": {
      "provenance": []
    },
    "kernelspec": {
      "display_name": "Python 3 (ipykernel)",
      "language": "python",
      "name": "python3"
    },
    "language_info": {
      "codemirror_mode": {
        "name": "ipython",
        "version": 3
      },
      "file_extension": ".py",
      "mimetype": "text/x-python",
      "name": "python",
      "nbconvert_exporter": "python",
      "pygments_lexer": "ipython3",
      "version": "3.9.16"
    }
  },
  "nbformat": 4,
  "nbformat_minor": 5
}