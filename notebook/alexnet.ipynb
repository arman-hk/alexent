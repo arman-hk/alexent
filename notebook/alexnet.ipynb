{
  "cells": [
    {
      "cell_type": "code",
      "execution_count": 1,
      "metadata": {
        "id": "151cb7a0-9307-4e8c-a977-5b72300c54e9"
      },
      "outputs": [],
      "source": [
        "import torch\n",
        "import torch.nn as nn"
      ],
      "id": "151cb7a0-9307-4e8c-a977-5b72300c54e9"
    },
    {
      "cell_type": "code",
      "execution_count": 2,
      "metadata": {
        "id": "8317d5f8-55f7-44f5-8f29-0a6c4d82d3fd"
      },
      "outputs": [],
      "source": [
        "class AlexNet(nn.Module):\n",
        "    def __init__(self, num_classes=1000):\n",
        "        super(AlexNet, self).__init__()\n",
        "        self.layers = nn.Sequential(\n",
        "            nn.Conv2d(3, 96, 11, 4), # Conv2d-1: 96 kernel(11x11) + stride of 4\n",
        "            nn.ReLU(),\n",
        "            nn.MaxPool2d(3, 2), # MaxPool2d-1: 1 kernel(3x3) + stride of 2\n",
        "            nn.Conv2d(96, 256, 5, padding=2), # Conv2d-2: 256 kernel(5x5) + padding of 2\n",
        "            nn.ReLU(),\n",
        "            nn.MaxPool2d(3, 2), # MaxPool2d-2: 1 kernel(3x3) + stride of 2\n",
        "            nn.Conv2d(256, 384, 3, padding=1), # Conv2d-3: 384 kernel(3x3) + padding of 1\n",
        "            nn.ReLU(),\n",
        "            nn.Conv2d(384, 384, 3, padding=1), # Conv2d-4: 384 kernel(3x3) + padding of 1\n",
        "            nn.ReLU(),\n",
        "            nn.Conv2d(384, 256, 3, padding=1), # Conv2d-5: 256 kernel(3x3) + padding of 1\n",
        "            nn.ReLU(),\n",
        "            nn.MaxPool2d(3, 2), # MaxPool2d-3: 1 kernel(3x3) + stride of 2\n",
        "        )\n",
        "        self.mlp = nn.Sequential(\n",
        "            nn.Dropout(), # Dropout-1: Dropout layer for regularization\n",
        "            nn.Linear(256*6*6, 4096), # Linear-1: input = 256(number of channels) * 6(height) * 6(width)\n",
        "            nn.ReLU(),\n",
        "            nn.Dropout(), # Dropout-2: Dropout layer for regularization\n",
        "            nn.Linear(4096, 4096), # Linear-2: input = 4096\n",
        "            nn.ReLU(),\n",
        "            nn.Linear(4096, num_classes) # Linear-3: num_classes = 1000 ImageNet classes\n",
        "        )"
      ],
      "id": "8317d5f8-55f7-44f5-8f29-0a6c4d82d3fd"
    }
  ],
  "metadata": {
    "colab": {
      "provenance": []
    },
    "kernelspec": {
      "display_name": "Python 3 (ipykernel)",
      "language": "python",
      "name": "python3"
    },
    "language_info": {
      "codemirror_mode": {
        "name": "ipython",
        "version": 3
      },
      "file_extension": ".py",
      "mimetype": "text/x-python",
      "name": "python",
      "nbconvert_exporter": "python",
      "pygments_lexer": "ipython3",
      "version": "3.9.16"
    }
  },
  "nbformat": 4,
  "nbformat_minor": 5
}