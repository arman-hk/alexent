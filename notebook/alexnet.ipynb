{
  "cells": [
    {
      "cell_type": "code",
      "execution_count": 1,
      "metadata": {
        "id": "151cb7a0-9307-4e8c-a977-5b72300c54e9"
      },
      "outputs": [],
      "source": [
        "import torch\n",
        "import torch.nn as nn"
      ],
      "id": "151cb7a0-9307-4e8c-a977-5b72300c54e9"
    },
    {
      "cell_type": "code",
      "execution_count": 2,
      "metadata": {
        "id": "8317d5f8-55f7-44f5-8f29-0a6c4d82d3fd"
      },
      "outputs": [],
      "source": [
        "class AlexNet(nn.Module):\n",
        "    def __init__(self):\n",
        "        super(AlexNet, self).__init__()\n",
        "        self.layers = nn.Sequential(\n",
        "            nn.Conv2d(3, 96, 11, 4), # Conv2d-1: 96 kernel(11x11) + stride of 4\n",
        "            nn.MaxPool2d(3, 2), # MaxPool2d-1: 1 kernel(3x3) + stride of 2\n",
        "            nn.Conv2d(96, 256, 5, 2), # Conv2d-2: 256 kernel(5x5) + padding of 2\n",
        "            nn.MaxPool2d(3, 2), # MaxPool2d-2: 1 kernel(3x3) + stride of 2\n",
        "            nn.Conv2d(256, 384, 3, 1), # Conv2d-3: 384 kernel(3x3) + padding of 1\n",
        "            nn.Conv2d(384, 384, 3, 1), # Conv2d-4: 384 kernel(3x3) + padding of 1\n",
        "            nn.Conv2d(384, 256, 3, 1), # Conv2d-5: 256 kernel(3x3) + padding of 1\n",
        "            nn.MaxPool2d(3, 2), # MaxPool2d-3: 1 kernel(3x3) + stride of 2\n",
        "        )"
      ],
      "id": "8317d5f8-55f7-44f5-8f29-0a6c4d82d3fd"
    }
  ],
  "metadata": {
    "colab": {
      "provenance": []
    },
    "kernelspec": {
      "display_name": "Python 3 (ipykernel)",
      "language": "python",
      "name": "python3"
    },
    "language_info": {
      "codemirror_mode": {
        "name": "ipython",
        "version": 3
      },
      "file_extension": ".py",
      "mimetype": "text/x-python",
      "name": "python",
      "nbconvert_exporter": "python",
      "pygments_lexer": "ipython3",
      "version": "3.9.16"
    }
  },
  "nbformat": 4,
  "nbformat_minor": 5
}